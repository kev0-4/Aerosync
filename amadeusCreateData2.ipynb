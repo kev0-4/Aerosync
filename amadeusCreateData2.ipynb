{
 "cells": [
  {
   "cell_type": "code",
   "execution_count": 1,
   "metadata": {},
   "outputs": [],
   "source": [
    "import csv\n",
    "import time\n",
    "from datetime import datetime, timedelta\n",
    "from amadeus import Client, ResponseError"
   ]
  },
  {
   "cell_type": "code",
   "execution_count": 2,
   "metadata": {},
   "outputs": [],
   "source": [
    "# Initialize Amadeus client\n",
    "amadeus = Client(\n",
    "    client_id='30p6SGd1iGzHZdAHE4DEgxk9GFJ8sTlI',\n",
    "    client_secret='cpnaHq3o3khOdGJX'\n",
    ")"
   ]
  },
  {
   "cell_type": "code",
   "execution_count": 3,
   "metadata": {},
   "outputs": [],
   "source": [
    "# Function to get flight offers for a given route and date\n",
    "def get_flight_offers(origin, destination, departure_date):\n",
    "    try:\n",
    "        response = amadeus.shopping.flight_offers_search.get(\n",
    "            originLocationCode=origin,\n",
    "            destinationLocationCode=destination,\n",
    "            departureDate=departure_date.strftime('%Y-%m-%d'),\n",
    "            adults=1,\n",
    "            max=2  # Adjust as needed\n",
    "        )\n",
    "        return response.data\n",
    "    except ResponseError as e:\n",
    "        print(f\"Error retrieving flight offers: {e}\")\n",
    "        return None\n"
   ]
  },
  {
   "cell_type": "code",
   "execution_count": 15,
   "metadata": {},
   "outputs": [],
   "source": [
    "# Function to parse flight offers and extract relevant information\n",
    "def parse_flight_offers(flight_offers):\n",
    "    parsed_data = []\n",
    "    if not flight_offers:\n",
    "        return parsed_data\n",
    "    for offer in flight_offers:\n",
    "        departure_date = offer.get('lastTicketingDate')\n",
    "        price = offer.get('price', {}).get('total')\n",
    "        validating_airline_codes = offer.get('validatingAirlineCodes', [])\n",
    "        itineraries = offer.get('itineraries', [])\n",
    "        for itinerary in itineraries:\n",
    "            segments = itinerary.get('segments', [])\n",
    "            for segment in segments:\n",
    "                cabin_class = segment.get('cabin', 'Unknown')\n",
    "                parsed_data.append({\n",
    "                    'Date': departure_date,\n",
    "                    'Origin': segment['departure']['iataCode'],\n",
    "                    'Destination': segment['arrival']['iataCode'],\n",
    "                    'Last Ticketing Date': departure_date,\n",
    "                    'Price': price,\n",
    "                    'Validating Airline Code': validating_airline_codes,\n",
    "                    'Cabin Class': cabin_class\n",
    "                })\n",
    "    return parsed_data"
   ]
  },
  {
   "cell_type": "code",
   "execution_count": 16,
   "metadata": {},
   "outputs": [],
   "source": [
    "# Read origin and destination airport codes from CSV\n",
    "airport_pairs = []\n",
    "with open('airport_direct_destinations_mini.csv', 'r') as csvfile:\n",
    "    reader = csv.DictReader(csvfile)\n",
    "    for row in reader:\n",
    "        airport_pairs.append((row['originLocationCode'], row['destinationLocationCode']))\n",
    "\n"
   ]
  },
  {
   "cell_type": "code",
   "execution_count": 17,
   "metadata": {},
   "outputs": [
    {
     "name": "stdout",
     "output_type": "stream",
     "text": [
      "Processing FUE to LEJ for 2023-05-01...\n",
      "Error retrieving flight offers: [429]\n",
      "\n",
      "Processing FUE to LEJ for 2023-05-02...\n",
      "Error retrieving flight offers: [429]\n",
      "\n",
      "Processing FUE to LEJ for 2023-05-03...\n",
      "Error retrieving flight offers: [429]\n",
      "\n",
      "Processing FUE to LEJ for 2023-05-04...\n",
      "Error retrieving flight offers: [429]\n",
      "\n",
      "Processing FUE to LEJ for 2023-05-05...\n",
      "Error retrieving flight offers: [429]\n",
      "\n",
      "Processing FUE to LEJ for 2023-05-06...\n",
      "Error retrieving flight offers: [429]\n",
      "\n",
      "Processing FUE to LEJ for 2023-05-07...\n",
      "Error retrieving flight offers: [429]\n",
      "\n"
     ]
    },
    {
     "ename": "KeyboardInterrupt",
     "evalue": "",
     "output_type": "error",
     "traceback": [
      "\u001b[1;31m---------------------------------------------------------------------------\u001b[0m",
      "\u001b[1;31mKeyboardInterrupt\u001b[0m                         Traceback (most recent call last)",
      "\u001b[1;32m<ipython-input-17-f76697440417>\u001b[0m in \u001b[0;36m<module>\u001b[1;34m\u001b[0m\n\u001b[0;32m     13\u001b[0m             \u001b[0mcsv_data\u001b[0m\u001b[1;33m.\u001b[0m\u001b[0mextend\u001b[0m\u001b[1;33m(\u001b[0m\u001b[0mparsed_data\u001b[0m\u001b[1;33m)\u001b[0m\u001b[1;33m\u001b[0m\u001b[1;33m\u001b[0m\u001b[0m\n\u001b[0;32m     14\u001b[0m         \u001b[0mstart_date\u001b[0m \u001b[1;33m+=\u001b[0m \u001b[0mdelta\u001b[0m\u001b[1;33m\u001b[0m\u001b[1;33m\u001b[0m\u001b[0m\n\u001b[1;32m---> 15\u001b[1;33m         \u001b[0mtime\u001b[0m\u001b[1;33m.\u001b[0m\u001b[0msleep\u001b[0m\u001b[1;33m(\u001b[0m\u001b[1;36m0.5\u001b[0m\u001b[1;33m)\u001b[0m  \u001b[1;31m# To avoid rate limiting\u001b[0m\u001b[1;33m\u001b[0m\u001b[1;33m\u001b[0m\u001b[0m\n\u001b[0m",
      "\u001b[1;31mKeyboardInterrupt\u001b[0m: "
     ]
    }
   ],
   "source": [
    "# Collect and export data to CSV\n",
    "csv_data = []\n",
    "for origin, destination in airport_pairs:\n",
    "    # Iterate over each departure date from May 1, 2023, to May 1, 2024\n",
    "    start_date = datetime(2023, 5, 1)\n",
    "    end_date = datetime(2024, 2, 1)\n",
    "    delta = timedelta(days=1)\n",
    "    while start_date <= end_date:\n",
    "        print(f\"Processing {origin} to {destination} for {start_date.strftime('%Y-%m-%d')}...\")\n",
    "        flight_offers = get_flight_offers(origin, destination, start_date)\n",
    "        if flight_offers:\n",
    "            parsed_data = parse_flight_offers(flight_offers)\n",
    "            csv_data.extend(parsed_data)\n",
    "        start_date += delta\n",
    "        time.sleep(0.5)  # To avoid rate limiting"
   ]
  },
  {
   "cell_type": "code",
   "execution_count": null,
   "metadata": {},
   "outputs": [],
   "source": [
    "# Export data to CSV file\n",
    "csv_columns = ['Date', 'Origin', 'Destination', 'Last Ticketing Date', 'Price', 'Validating Airline Code', 'Cabin Class']\n",
    "csv_file = \"flight_data.csv\"\n",
    "try:\n",
    "    with open(csv_file, 'w', newline='') as csvfile:\n",
    "        writer = csv.DictWriter(csvfile, fieldnames=csv_columns)\n",
    "        writer.writeheader()\n",
    "        for data in csv_data:\n",
    "            writer.writerow(data)\n",
    "    print(f\"CSV data successfully exported to {csv_file}\")\n",
    "except IOError:\n",
    "    print(\"I/O error\")"
   ]
  },
  {
   "cell_type": "code",
   "execution_count": null,
   "metadata": {},
   "outputs": [],
   "source": []
  },
  {
   "cell_type": "code",
   "execution_count": null,
   "metadata": {},
   "outputs": [],
   "source": []
  }
 ],
 "metadata": {
  "kernelspec": {
   "display_name": "Python 3",
   "language": "python",
   "name": "python3"
  },
  "language_info": {
   "codemirror_mode": {
    "name": "ipython",
    "version": 3
   },
   "file_extension": ".py",
   "mimetype": "text/x-python",
   "name": "python",
   "nbconvert_exporter": "python",
   "pygments_lexer": "ipython3",
   "version": "3.6.13"
  }
 },
 "nbformat": 4,
 "nbformat_minor": 2
}
